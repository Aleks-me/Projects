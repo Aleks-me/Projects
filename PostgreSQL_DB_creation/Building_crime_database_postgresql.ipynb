{
 "cells": [
  {
   "cell_type": "markdown",
   "metadata": {},
   "source": [
    "# Crime Database\n",
    "\n",
    "In this project we will build a database for storing data related with crimes that occurred in Boston. This dataset is provided by [Dataquest.io](https://www.dataquest.io/) and available in the file \"boston.csv\"\n",
    "\n",
    "The goal of this project is to create a database named **crime_db** with a table \"boston_crimes\" with appropriate datatypes for storing the data from the \"boston.csv\" file. We'll be creating the table inside a schema named **crimes**. We'll also create the *readonly* and *readwrite* groups with the appropriate privileges. Finally, we'll create some users for each of these groups.\n",
    "\n",
    "Database final state will look like this:\n",
    "![final_state](db_diag.png)"
   ]
  },
  {
   "cell_type": "markdown",
   "metadata": {},
   "source": [
    "## Preparations\n",
    "\n",
    "Because we don't have **crime_db** for now it's time to create it!\n",
    "There is several possible ways to create postgreSQL database:\n",
    "- with *psycopg2* Python package (connect to existing db and create new one).\n",
    "- using Linux Bash/Windows PowerShell/iOS CLI (connect to psql shell and create db).\n",
    "\n",
    "PErsonally I'll use Linux approach (currntly working on Ubuntu 20) and with the help of Bash we'll create new database.\n",
    "I'll leave basic \"postgres\" user for now.\n",
    "\n",
    "![Picture of creating DB via bash](bash_crime_db.png)"
   ]
  },
  {
   "cell_type": "markdown",
   "metadata": {},
   "source": [
    "If you firmly sure to create database with the Python package, then your code will look like this for base Postges database:\n",
    "\n",
    "```\n",
    "import psycopg2\n",
    "\n",
    "conn = psycopg2.connect(dbname=\"postgres\",\n",
    "                        user=\"postgres\",\n",
    "                        host=\"localhost\",\n",
    "                        password=\"postgres\")\n",
    "conn.autocommit = True\n",
    "cur = conn.cursor()\n",
    "cur.execute(\"CREATE DATABASE crime_db;\")\n",
    "conn.close()\n",
    "```\n",
    "<br>\n",
    "<br>\n",
    "Now let's just connect to previously created database and make new schema:"
   ]
  },
  {
   "cell_type": "code",
   "execution_count": 5,
   "metadata": {},
   "outputs": [],
   "source": [
    "import psycopg2\n",
    "from csv import reader"
   ]
  },
  {
   "cell_type": "code",
   "execution_count": 3,
   "metadata": {},
   "outputs": [],
   "source": [
    "# Password was created earlier in psql shell\n",
    "# with ALTER USER postgres PASSWORD 'postgres'; query.\n",
    "\n",
    "conn = psycopg2.connect(dbname=\"crime_db\",\n",
    "                        user=\"postgres\",\n",
    "                        host=\"localhost\",\n",
    "                        password=\"postgres\")\n",
    "cur = conn.cursor()\n",
    "cur.execute(\"CREATE SCHEMA crimes;\")\n",
    "conn.commit()"
   ]
  },
  {
   "cell_type": "markdown",
   "metadata": {},
   "source": [
    "There's no need to close this connection now. We'll work with it until project goals will be reached."
   ]
  },
  {
   "cell_type": "markdown",
   "metadata": {},
   "source": [
    "## File exploration\n",
    "\n",
    "Before we created any tables let's see what data lies inside \"boston.csv\".<br>\n",
    "This step will allow us to use proper data types in our future **crime_db** tables."
   ]
  },
  {
   "cell_type": "code",
   "execution_count": 40,
   "metadata": {},
   "outputs": [
    {
     "data": {
      "text/plain": [
       "['incident_number',\n",
       " 'offense_code',\n",
       " 'description',\n",
       " 'date',\n",
       " 'day_of_the_week',\n",
       " 'lat',\n",
       " 'long']"
      ]
     },
     "execution_count": 40,
     "metadata": {},
     "output_type": "execute_result"
    }
   ],
   "source": [
    "with open(\"boston.csv\") as file:\n",
    "    r_file = list(reader(file))\n",
    "    header = r_file[0]\n",
    "    first_three = r_file[1:4]\n",
    "\n",
    "header"
   ]
  },
  {
   "cell_type": "markdown",
   "metadata": {},
   "source": [
    "Our database has columns:\n",
    "* **incident_number** - identifier of the crime.\n",
    "* **offense_code** - numeric identifier code for the committed crime.\n",
    "* **description** - description of the crime.\n",
    "* **date** - date on which the crime happened.\n",
    "* **day_of_the_week** - day of the week corresponding to **date**.\n",
    "* **lat** - latitude coordinates of crime location.\n",
    "* **long** - latitude coordinates of crime location."
   ]
  },
  {
   "cell_type": "code",
   "execution_count": 41,
   "metadata": {},
   "outputs": [
    {
     "data": {
      "text/plain": [
       "[['1',\n",
       "  '619',\n",
       "  'LARCENY ALL OTHERS',\n",
       "  '2018-09-02',\n",
       "  'Sunday',\n",
       "  '42.35779134',\n",
       "  '-71.13937053'],\n",
       " ['2',\n",
       "  '1402',\n",
       "  'VANDALISM',\n",
       "  '2018-08-21',\n",
       "  'Tuesday',\n",
       "  '42.30682138',\n",
       "  '-71.06030035'],\n",
       " ['3',\n",
       "  '3410',\n",
       "  'TOWED MOTOR VEHICLE',\n",
       "  '2018-09-03',\n",
       "  'Monday',\n",
       "  '42.34658879',\n",
       "  '-71.07242943']]"
      ]
     },
     "execution_count": 41,
     "metadata": {},
     "output_type": "execute_result"
    }
   ],
   "source": [
    "first_three"
   ]
  },
  {
   "cell_type": "markdown",
   "metadata": {},
   "source": [
    "After looking on first three rows we can name values data types (in order):\n",
    "- integer number\n",
    "- integer number\n",
    "- string\n",
    "- date\n",
    "- string\n",
    "- decimal number\n",
    "- decimal number"
   ]
  },
  {
   "cell_type": "markdown",
   "metadata": {},
   "source": [
    "We'll now find amount of unique elements in columns to see if we can turn categorical data to enumerated datatypes."
   ]
  },
  {
   "cell_type": "code",
   "execution_count": 19,
   "metadata": {},
   "outputs": [],
   "source": [
    "# Helper function that makes sets:\n",
    "def count_set_from_columns(file, col_id):\n",
    "    col_values = []\n",
    "    for row in file[1:]:\n",
    "        col_values.append(row[col_id])\n",
    "    return set(col_values)"
   ]
  },
  {
   "cell_type": "code",
   "execution_count": 39,
   "metadata": {},
   "outputs": [
    {
     "name": "stdout",
     "output_type": "stream",
     "text": [
      "Column 'incident_number': 298329\n",
      "Column 'offense_code': 219\n",
      "Column 'description': 239\n",
      "Column 'date': 1177\n",
      "Column 'day_of_the_week': 7\n",
      "Column 'lat': 18177\n",
      "Column 'long': 18177\n"
     ]
    }
   ],
   "source": [
    "with open(\"boston.csv\") as file:\n",
    "    r_file = list(reader(file))\n",
    "\n",
    "# We already have \"header\" value from previous boston.csv reading:\n",
    "for ind in range(len(header)):\n",
    "    result = count_set_from_columns(r_file, ind)\n",
    "    print(f\"Column '{header[ind]}':\", len(result))"
   ]
  },
  {
   "cell_type": "markdown",
   "metadata": {},
   "source": [
    "Looks like the only column for numerical transformation is \"day_of_the_week\".\n",
    "\n",
    "Also let's count max length of the longest value in 'description' column to se how we can specify data type maximum length."
   ]
  },
  {
   "cell_type": "code",
   "execution_count": 38,
   "metadata": {},
   "outputs": [
    {
     "name": "stdout",
     "output_type": "stream",
     "text": [
      "58\n"
     ]
    }
   ],
   "source": [
    "max_len_desc = 0\n",
    "cr_description = count_set_from_columns(r_file, 2)\n",
    "for l in cr_description:\n",
    "    max_len_desc = max(max_len_desc, len(l))\n",
    "\n",
    "print(max_len_desc)"
   ]
  },
  {
   "cell_type": "markdown",
   "metadata": {},
   "source": [
    "## DB table creation\n",
    "\n",
    "Now we have all information needed to create db table, so let's do it."
   ]
  },
  {
   "cell_type": "code",
   "execution_count": 42,
   "metadata": {},
   "outputs": [],
   "source": [
    "# New data type for days of the week numerical conversion:\n",
    "cur.execute(\"\"\"\n",
    "CREATE TYPE weekdays_enum\n",
    "AS ENUM ('Monday', 'Tuesday','Wednesday', 'Thursday',\n",
    "         'Friday', 'Saturday', 'Sunday');\n",
    "\"\"\")\n",
    "\n",
    "# Only 'description' will get max length:\n",
    "cur.execute(\"\"\"\n",
    "CREATE TABLE crimes.boston_crimes (\n",
    "    incident_number INTEGER PRIMARY KEY,\n",
    "    offense_code INTEGER,\n",
    "    description VARCHAR(100),\n",
    "    date DATE,\n",
    "    day_of_the_week weekdays_enum,\n",
    "    lat DECIMAL,\n",
    "    lon DECIMAL);\n",
    "\"\"\")\n",
    "\n",
    "conn.commit()"
   ]
  },
  {
   "cell_type": "markdown",
   "metadata": {},
   "source": [
    "## Data loading to DB\n",
    "\n",
    "Let's load data from \"boston.csv\" to our newly created table."
   ]
  },
  {
   "cell_type": "code",
   "execution_count": 49,
   "metadata": {},
   "outputs": [],
   "source": [
    "with open(\"boston.csv\") as f:\n",
    "    cur.copy_expert(\"COPY crimes.boston_crimes FROM STDIN WITH CSV HEADER DELIMITER as ',';\", f)\n",
    "    conn.commit()"
   ]
  },
  {
   "cell_type": "markdown",
   "metadata": {},
   "source": [
    "And check for successfully uploaded data:"
   ]
  },
  {
   "cell_type": "code",
   "execution_count": 57,
   "metadata": {},
   "outputs": [
    {
     "data": {
      "text/plain": [
       "[(1,\n",
       "  619,\n",
       "  'LARCENY ALL OTHERS',\n",
       "  datetime.date(2018, 9, 2),\n",
       "  'Sunday',\n",
       "  Decimal('42.35779134'),\n",
       "  Decimal('-71.13937053')),\n",
       " (2,\n",
       "  1402,\n",
       "  'VANDALISM',\n",
       "  datetime.date(2018, 8, 21),\n",
       "  'Tuesday',\n",
       "  Decimal('42.30682138'),\n",
       "  Decimal('-71.06030035')),\n",
       " (3,\n",
       "  3410,\n",
       "  'TOWED MOTOR VEHICLE',\n",
       "  datetime.date(2018, 9, 3),\n",
       "  'Monday',\n",
       "  Decimal('42.34658879'),\n",
       "  Decimal('-71.07242943'))]"
      ]
     },
     "execution_count": 57,
     "metadata": {},
     "output_type": "execute_result"
    }
   ],
   "source": [
    "cur.execute(\"SELECT * FROM crimes.boston_crimes LIMIT 3;\")\n",
    "cur.fetchall()"
   ]
  },
  {
   "cell_type": "markdown",
   "metadata": {},
   "source": [
    "Let's also check for our \"day_of_the_week\" column type is correct as we created above."
   ]
  },
  {
   "cell_type": "code",
   "execution_count": 58,
   "metadata": {},
   "outputs": [
    {
     "name": "stdout",
     "output_type": "stream",
     "text": [
      "(Column(name='incident_number', type_code=23), Column(name='offense_code', type_code=23), Column(name='description', type_code=1043), Column(name='date', type_code=1082), Column(name='day_of_the_week', type_code=16396), Column(name='lat', type_code=1700), Column(name='lon', type_code=1700))\n"
     ]
    }
   ],
   "source": [
    "print(cur.description)"
   ]
  },
  {
   "cell_type": "code",
   "execution_count": 53,
   "metadata": {},
   "outputs": [
    {
     "data": {
      "text/plain": [
       "'weekdays_enum'"
      ]
     },
     "execution_count": 53,
     "metadata": {},
     "output_type": "execute_result"
    }
   ],
   "source": [
    "cur.execute(\"SELECT typname FROM pg_catalog.pg_type WHERE oid = 16396;\")\n",
    "cur.fetchone()[0]"
   ]
  },
  {
   "cell_type": "markdown",
   "metadata": {},
   "source": [
    "All seems to be good!"
   ]
  },
  {
   "cell_type": "markdown",
   "metadata": {},
   "source": [
    "## Revoking Public Privileges and Groups Creation\n",
    "\n",
    "Now it is time to handle users. Our goal is to create the two user groups: *readonly* and *readwrite*.<br>\n",
    "By following the least privilege principle, the first step in doing so is to make sure that there are no privileges inherited from the public group and on the public schema."
   ]
  },
  {
   "cell_type": "code",
   "execution_count": 66,
   "metadata": {},
   "outputs": [],
   "source": [
    "# Don't forget to use conn.rollback() if something wrong with the query.\n",
    "\n",
    "cur.execute(\"REVOKE ALL ON SCHEMA crimes FROM public;\")\n",
    "cur.execute(\"REVOKE ALL ON DATABASE crime_db FROM public;\")"
   ]
  },
  {
   "cell_type": "markdown",
   "metadata": {},
   "source": [
    "Both groups need CONNECT to database privilege - otherwise, they won't be able to do anything.\n",
    "Same thing with USAGE on schema privilege.\n",
    "\n",
    "*Readonly* group will get only SELECT option."
   ]
  },
  {
   "cell_type": "code",
   "execution_count": 67,
   "metadata": {},
   "outputs": [],
   "source": [
    "cur.execute(\"CREATE GROUP readonly NOLOGIN;\")\n",
    "cur.execute(\"GRANT CONNECT ON DATABASE crime_db TO readonly;\")\n",
    "cur.execute(\"GRANT USAGE ON SCHEMA crimes TO readonly;\")\n",
    "cur.execute(\"GRANT SELECT ON ALL TABLES IN SCHEMA crimes TO readonly;\")\n",
    "conn.commit()"
   ]
  },
  {
   "cell_type": "markdown",
   "metadata": {},
   "source": [
    "*Readwrite* group will get SELECT, INSERT, DELETE and UPDATE options. We'll not grant DROP privilege to this groгp, because it's more related to the database engineer position. "
   ]
  },
  {
   "cell_type": "code",
   "execution_count": 68,
   "metadata": {},
   "outputs": [],
   "source": [
    "cur.execute(\"CREATE GROUP readwrite NOLOGIN;\")\n",
    "cur.execute(\"GRANT CONNECT ON DATABASE crime_db TO readwrite;\")\n",
    "cur.execute(\"GRANT USAGE ON SCHEMA crimes TO readwrite;\")\n",
    "cur.execute(\"GRANT SELECT ON ALL TABLES IN SCHEMA crimes TO readwrite;\")\n",
    "conn.commit()"
   ]
  },
  {
   "cell_type": "markdown",
   "metadata": {},
   "source": [
    "## Add Users\n",
    "\n",
    "Our final step is to add several users of our database."
   ]
  },
  {
   "cell_type": "code",
   "execution_count": 69,
   "metadata": {},
   "outputs": [],
   "source": [
    "cur.execute(\"CREATE USER data_analyst WITH PASSWORD 'dickbutt';\")\n",
    "cur.execute(\"GRANT readonly TO data_analyst;\")\n",
    "\n",
    "cur.execute(\"CREATE USER data_scientist WITH PASSWORD 'suchdoge';\")\n",
    "cur.execute(\"GRANT readwrite TO data_scientist;\")\n",
    "\n",
    "conn.commit()"
   ]
  },
  {
   "cell_type": "markdown",
   "metadata": {},
   "source": [
    "Let's check privileges that we granted to groups.<br>\n",
    "\n",
    "In the pg_roles table we will check some database related privileges and for that we will look at the following columns:\n",
    "\n",
    "    rolname: The name of the user / group that the privilege refers to.\n",
    "    rolsuper: Whether this user / group is a super user. It should be set to False on every user / group that we have created.\n",
    "    rolcreaterole: Whether user / group can create users, groups or roles. It should be False on every user / group that we have created.\n",
    "    rolcreatedb: Whether user / group can create databases. It should be False on every user / group that we have created.\n",
    "    rolcanlogin: Whether user / group can login. It should be True on the users and False on the groups that we have created.\n",
    "\n",
    "In the information_schema.table_privileges we will check privileges related to SQL queries on tables. We will list the privileges of each group that we have created."
   ]
  },
  {
   "cell_type": "code",
   "execution_count": 109,
   "metadata": {},
   "outputs": [
    {
     "name": "stdout",
     "output_type": "stream",
     "text": [
      "('readonly', False, False, False, False)\n",
      "('readwrite', False, False, False, False)\n",
      "('data_analyst', False, False, False, True)\n",
      "('data_scientist', False, False, False, True)\n"
     ]
    }
   ],
   "source": [
    "cur.execute(\"\"\"\n",
    "    SELECT rolname, rolsuper, rolcreaterole, rolcreatedb, rolcanlogin FROM pg_roles\n",
    "    WHERE rolname IN ('readonly', 'readwrite', 'data_analyst', 'data_scientist');\n",
    "\"\"\")\n",
    "for user in cur:\n",
    "    print(user)"
   ]
  },
  {
   "cell_type": "code",
   "execution_count": 111,
   "metadata": {},
   "outputs": [
    {
     "name": "stdout",
     "output_type": "stream",
     "text": [
      "('readwrite', 'INSERT')\n",
      "('readwrite', 'SELECT')\n",
      "('readwrite', 'UPDATE')\n",
      "('readwrite', 'DELETE')\n"
     ]
    }
   ],
   "source": [
    "cur.execute(\"\"\"\n",
    "    SELECT grantee, privilege_type\n",
    "    FROM information_schema.table_privileges\n",
    "    WHERE grantee IN ('readonly', 'readwrite');\n",
    "\"\"\")\n",
    "for user in cur:\n",
    "    print(user)"
   ]
  },
  {
   "cell_type": "markdown",
   "metadata": {},
   "source": [
    "It seems like there must be more privileges. That's happened due to the copy/paste without proper attention.<br>\n",
    "Let's fix it!"
   ]
  },
  {
   "cell_type": "code",
   "execution_count": 73,
   "metadata": {},
   "outputs": [],
   "source": [
    "cur.execute(\"GRANT SELECT, INSERT, DELETE, UPDATE ON ALL TABLES IN SCHEMA crimes TO readwrite;\")\n",
    "conn.commit()"
   ]
  },
  {
   "cell_type": "code",
   "execution_count": 74,
   "metadata": {},
   "outputs": [
    {
     "data": {
      "text/plain": [
       "[('readwrite', 'INSERT'),\n",
       " ('readwrite', 'SELECT'),\n",
       " ('readwrite', 'UPDATE'),\n",
       " ('readwrite', 'DELETE')]"
      ]
     },
     "execution_count": 74,
     "metadata": {},
     "output_type": "execute_result"
    }
   ],
   "source": [
    "cur.execute(\"\"\"\n",
    "SELECT grantee, privilege_type\n",
    "FROM information_schema.table_privileges\n",
    "WHERE grantee = 'readwrite';\"\"\")\n",
    "cur.fetchall()"
   ]
  },
  {
   "cell_type": "markdown",
   "metadata": {},
   "source": [
    "Access rights are looking good now."
   ]
  },
  {
   "cell_type": "markdown",
   "metadata": {},
   "source": [
    "conn.close()"
   ]
  },
  {
   "cell_type": "markdown",
   "metadata": {},
   "source": [
    "## Let's make some queries!\n",
    "\n",
    "All steps are left behind and it's time to check connection.<br>\n",
    "<br>\n",
    "Let's connect as data_scientist and make some queries."
   ]
  },
  {
   "cell_type": "code",
   "execution_count": 76,
   "metadata": {},
   "outputs": [],
   "source": [
    "conn_test = psycopg2.connect(dbname=\"crime_db\",\n",
    "                             user=\"data_scientist\",\n",
    "                             host=\"localhost\",\n",
    "                             password=\"suchdoge\")\n",
    "cur = conn_test.cursor()"
   ]
  },
  {
   "cell_type": "markdown",
   "metadata": {},
   "source": [
    "What is the time gap of our data?"
   ]
  },
  {
   "cell_type": "code",
   "execution_count": 87,
   "metadata": {},
   "outputs": [
    {
     "data": {
      "text/plain": [
       "[(datetime.date(2015, 6, 15), datetime.date(2018, 9, 3))]"
      ]
     },
     "execution_count": 87,
     "metadata": {},
     "output_type": "execute_result"
    }
   ],
   "source": [
    "cur.execute(\"SELECT MIN(date), MAX(date) FROM crimes.boston_crimes;\")\n",
    "cur.fetchall()"
   ]
  },
  {
   "cell_type": "markdown",
   "metadata": {},
   "source": [
    "Are there some records with kills?"
   ]
  },
  {
   "cell_type": "code",
   "execution_count": 102,
   "metadata": {},
   "outputs": [
    {
     "data": {
      "text/plain": [
       "[(237398,\n",
       "  112,\n",
       "  'KILLING OF FELON BY POLICE',\n",
       "  datetime.date(2016, 2, 12),\n",
       "  'Friday',\n",
       "  Decimal('42.33367922'),\n",
       "  Decimal('-71.09187755'))]"
      ]
     },
     "execution_count": 102,
     "metadata": {},
     "output_type": "execute_result"
    }
   ],
   "source": [
    "cur.execute(\"\"\"\n",
    "SELECT *  \n",
    "FROM crimes.boston_crimes\n",
    "WHERE description LIKE '%KILL%';\n",
    "\"\"\")\n",
    "cur.fetchall()"
   ]
  },
  {
   "cell_type": "markdown",
   "metadata": {},
   "source": [
    "Find max record number to add one more record:"
   ]
  },
  {
   "cell_type": "code",
   "execution_count": 95,
   "metadata": {},
   "outputs": [
    {
     "data": {
      "text/plain": [
       "[(298329,)]"
      ]
     },
     "execution_count": 95,
     "metadata": {},
     "output_type": "execute_result"
    }
   ],
   "source": [
    "cur.execute(\"SELECT MAX(incident_number) FROM crimes.boston_crimes;\")\n",
    "cur.fetchall()"
   ]
  },
  {
   "cell_type": "code",
   "execution_count": 100,
   "metadata": {},
   "outputs": [],
   "source": [
    "cur.execute(\"\"\"\n",
    "INSERT INTO crimes.boston_crimes VALUES (\n",
    "        298330,\n",
    "        0101,\n",
    "        'OVERDOSE WITH MEMES',\n",
    "        '2020, 8, 31',\n",
    "        'Friday',\n",
    "        59.859183,\n",
    "        30.188727\n",
    ");\n",
    "\"\"\")\n",
    "conn_test.commit()"
   ]
  },
  {
   "cell_type": "markdown",
   "metadata": {},
   "source": [
    "And check that record was made properly:"
   ]
  },
  {
   "cell_type": "code",
   "execution_count": 103,
   "metadata": {},
   "outputs": [
    {
     "data": {
      "text/plain": [
       "[(298330,\n",
       "  101,\n",
       "  'OVERDOSE WITH MEMES',\n",
       "  datetime.date(2020, 8, 31),\n",
       "  'Friday',\n",
       "  Decimal('59.859183'),\n",
       "  Decimal('30.188727'))]"
      ]
     },
     "execution_count": 103,
     "metadata": {},
     "output_type": "execute_result"
    }
   ],
   "source": [
    "cur.execute(\"\"\"\n",
    "SELECT *  \n",
    "FROM crimes.boston_crimes\n",
    "WHERE offense_code = 0101;\n",
    "\"\"\")\n",
    "cur.fetchall()"
   ]
  },
  {
   "cell_type": "markdown",
   "metadata": {},
   "source": [
    "It was not good idea to pass an offence code \"0101\" as during record to database Postgres has turned it to \"101\".\n",
    "But still query found our record."
   ]
  },
  {
   "cell_type": "code",
   "execution_count": 114,
   "metadata": {},
   "outputs": [],
   "source": [
    "conn_test.close()"
   ]
  }
 ],
 "metadata": {
  "kernelspec": {
   "display_name": "Python 3",
   "language": "python",
   "name": "python3"
  },
  "language_info": {
   "codemirror_mode": {
    "name": "ipython",
    "version": 3
   },
   "file_extension": ".py",
   "mimetype": "text/x-python",
   "name": "python",
   "nbconvert_exporter": "python",
   "pygments_lexer": "ipython3",
   "version": "3.8.2"
  }
 },
 "nbformat": 4,
 "nbformat_minor": 4
}
